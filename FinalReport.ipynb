{
 "cells": [
  {
   "cell_type": "markdown",
   "metadata": {},
   "source": [
    "# **PART 1** - Collecting Data\n"
   ]
  },
  {
   "cell_type": "markdown",
   "metadata": {},
   "source": [
    "We worked on the enviorment in the labs, so we put the installs that we nedded."
   ]
  },
  {
   "cell_type": "code",
   "execution_count": 228,
   "metadata": {},
   "outputs": [
    {
     "name": "stdout",
     "output_type": "stream",
     "text": [
      "Requirement already satisfied: tweepy in c:\\programdata\\anaconda3\\lib\\site-packages\n",
      "Requirement already satisfied: requests>=2.4.3 in c:\\programdata\\anaconda3\\lib\\site-packages (from tweepy)\n",
      "Requirement already satisfied: six>=1.7.3 in c:\\programdata\\anaconda3\\lib\\site-packages (from tweepy)\n",
      "Requirement already satisfied: requests-oauthlib>=0.4.1 in c:\\programdata\\anaconda3\\lib\\site-packages (from tweepy)\n",
      "Requirement already satisfied: chardet<3.1.0,>=3.0.2 in c:\\programdata\\anaconda3\\lib\\site-packages (from requests>=2.4.3->tweepy)\n",
      "Requirement already satisfied: idna<2.7,>=2.5 in c:\\programdata\\anaconda3\\lib\\site-packages (from requests>=2.4.3->tweepy)\n",
      "Requirement already satisfied: urllib3<1.23,>=1.21.1 in c:\\programdata\\anaconda3\\lib\\site-packages (from requests>=2.4.3->tweepy)\n",
      "Requirement already satisfied: certifi>=2017.4.17 in c:\\programdata\\anaconda3\\lib\\site-packages (from requests>=2.4.3->tweepy)\n",
      "Requirement already satisfied: oauthlib>=0.6.2 in c:\\programdata\\anaconda3\\lib\\site-packages (from requests-oauthlib>=0.4.1->tweepy)\n",
      "Requirement already satisfied: plotly in c:\\programdata\\anaconda3\\lib\\site-packages\n",
      "Requirement already satisfied: pytz in c:\\programdata\\anaconda3\\lib\\site-packages (from plotly)\n",
      "Requirement already satisfied: nbformat>=4.2 in c:\\programdata\\anaconda3\\lib\\site-packages (from plotly)\n",
      "Requirement already satisfied: requests in c:\\programdata\\anaconda3\\lib\\site-packages (from plotly)\n",
      "Requirement already satisfied: decorator>=4.0.6 in c:\\programdata\\anaconda3\\lib\\site-packages (from plotly)\n",
      "Requirement already satisfied: six in c:\\programdata\\anaconda3\\lib\\site-packages (from plotly)\n",
      "Requirement already satisfied: ipython_genutils in c:\\programdata\\anaconda3\\lib\\site-packages (from nbformat>=4.2->plotly)\n",
      "Requirement already satisfied: traitlets>=4.1 in c:\\programdata\\anaconda3\\lib\\site-packages (from nbformat>=4.2->plotly)\n",
      "Requirement already satisfied: jsonschema!=2.5.0,>=2.4 in c:\\programdata\\anaconda3\\lib\\site-packages (from nbformat>=4.2->plotly)\n",
      "Requirement already satisfied: jupyter_core in c:\\programdata\\anaconda3\\lib\\site-packages (from nbformat>=4.2->plotly)\n",
      "Requirement already satisfied: chardet<3.1.0,>=3.0.2 in c:\\programdata\\anaconda3\\lib\\site-packages (from requests->plotly)\n",
      "Requirement already satisfied: idna<2.7,>=2.5 in c:\\programdata\\anaconda3\\lib\\site-packages (from requests->plotly)\n",
      "Requirement already satisfied: urllib3<1.23,>=1.21.1 in c:\\programdata\\anaconda3\\lib\\site-packages (from requests->plotly)\n",
      "Requirement already satisfied: certifi>=2017.4.17 in c:\\programdata\\anaconda3\\lib\\site-packages (from requests->plotly)\n",
      "showing info https://raw.githubusercontent.com/nltk/nltk_data/gh-pages/index.xml\n"
     ]
    },
    {
     "data": {
      "text/plain": [
       "True"
      ]
     },
     "execution_count": 228,
     "metadata": {},
     "output_type": "execute_result"
    }
   ],
   "source": [
    "!pip install tweepy\n",
    "!pip install plotly\n",
    "import nltk\n",
    "#nltk.download()\n",
    "#we used the stopword corpus so please download it :)"
   ]
  },
  {
   "cell_type": "code",
   "execution_count": 229,
   "metadata": {
    "collapsed": true
   },
   "outputs": [],
   "source": [
    "%matplotlib inline"
   ]
  },
  {
   "cell_type": "code",
   "execution_count": 230,
   "metadata": {
    "collapsed": true
   },
   "outputs": [],
   "source": [
    "import tweepy\n",
    "import re\n",
    "import numpy as np\n",
    "import matplotlib.pyplot as plt\n",
    "import pandas as pd\n",
    "from bs4 import BeautifulSoup\n",
    "import nltk\n",
    "import tweepy\n",
    "from tweepy import OAuthHandler\n",
    "import pandas as pd\n",
    "from sklearn.feature_extraction.text import CountVectorizer\n",
    "from nltk.corpus import stopwords\n",
    "#import enchant\n",
    "import csv"
   ]
  },
  {
   "cell_type": "markdown",
   "metadata": {},
   "source": [
    "twitter authntication and getting all our sample tweets.\n",
    "we choose to keep the tweets without removing anything- since twitter only allowed 140 characters until recently and the fact we choose twiiter accoutns run by adutls, limiting the use of slang exspressions and emoji uses.\n",
    "in addition, to make sure all read tweets are indeed by said gender, we didn't keep Re-Tweets.\n",
    "\n",
    "If you like to collect new tweets from twitter run the cell below, if not you can skip this part because we saved the tweets after all the text cleaning."
   ]
  },
  {
   "cell_type": "code",
   "execution_count": 231,
   "metadata": {},
   "outputs": [],
   "source": [
    "%run twitterkeys.ipynb\n",
    "\n",
    "auth = tweepy.OAuthHandler(consumer_key, consumer_secret)\n",
    "auth.set_access_token(access_token, access_token_secret)\n",
    "api = tweepy.API(auth)\n",
    "\n",
    "men=[\"BarackObama\", \"realDonaldTrump\", \"Bud_Smith\", \"steveroggenbuck\",\"AdamLevine\", \"ActuallyNPH\", \"GRRMspeaking\"]\n",
    "women=[\"MichelleObama\", \"Oprah\", \"KimKardashian\", \"EmmaWatson\", \"HillaryClinton\", \"IMKristenBell\", \"HilaryDuff\"]\n",
    "\n",
    "alltweets={}; mentweets={}; womentweets={}\n",
    "ht_men=[] ; ht_women=[]\n",
    "tag_men=[] ; tag_women=[]\n",
    "htmen=0 ; htwomen=0\n",
    "tmen=0; twomen=0\n",
    "hashtag=re.compile(r\"#(\\w+)\")\n",
    "at=re.compile(r\"@(\\w+)\")\n",
    "for m in men:\n",
    "    new_tweets = api.user_timeline(screen_name = m,count=200, tweet_mode=\"extended\")\n",
    "    for tweet in new_tweets:\n",
    "        if (not tweet.retweeted) and ('RT @' not in tweet.full_text):\n",
    "            if(not tweet.full_text in alltweets):\n",
    "                mentweets[tweet.full_text]=0\n",
    "                htmen+=len(hashtag.findall(tweet.full_text))\n",
    "                tmen+=len(at.findall(tweet.full_text))\n",
    "                alltweets[tweet.full_text]=0\n",
    "\n",
    "for w in women:\n",
    "    new_tweets = api.user_timeline(screen_name=w, count=200, tweet_mode=\"extended\")\n",
    "    for tweet in new_tweets:\n",
    "        if (not tweet.retweeted) and ('RT @' not in tweet.full_text):\n",
    "            if(not tweet.full_text in alltweets):\n",
    "                womentweets[tweet.full_text] = 1\n",
    "                htwomen+=len(hashtag.findall(tweet.full_text))\n",
    "                twomen+=len(at.findall(tweet.full_text))\n",
    "                alltweets[tweet.full_text]=1"
   ]
  },
  {
   "cell_type": "code",
   "execution_count": 277,
   "metadata": {},
   "outputs": [],
   "source": [
    "mentocsv={}; womentocsv={}\n",
    "for x in alltweets:\n",
    "    if alltweets[x]==0:\n",
    "        mentocsv[x]=0\n",
    "    else:\n",
    "        womentocsv[x]=1\n",
    "(pd.DataFrame.from_dict(data=mentocsv, orient='index').to_csv('mentweets.csv', header=False))\n",
    "(pd.DataFrame.from_dict(data=womentocsv, orient='index').to_csv('womentweets.csv', header=False))"
   ]
  },
  {
   "cell_type": "markdown",
   "metadata": {},
   "source": [
    "Load tweets to dictionaries:"
   ]
  },
  {
   "cell_type": "code",
   "execution_count": null,
   "metadata": {},
   "outputs": [],
   "source": [
    "mentweets=pd.read_csv('mentweets.csv', encoding='unicode_escape', header=None, index_col=0, squeeze=True).to_dict()\n",
    "womentweets=pd.read_csv('womentweets.csv', encoding='unicode_escape', header=None, index_col=0, squeeze=True).to_dict()\n",
    "alltweets={}\n",
    "ht_men=[] ; ht_women=[]\n",
    "tag_men=[] ; tag_women=[]\n",
    "htmen=0 ; htwomen=0\n",
    "tmen=0; twomen=0\n",
    "hashtag=re.compile(r\"#(\\w+)\")\n",
    "at=re.compile(r\"@(\\w+)\")\n",
    "for tweet in mentweets:\n",
    "    htmen+=len(hashtag.findall(tweet))\n",
    "    tmen+=len(at.findall(tweet))\n",
    "    alltweets[tweet]=0\n",
    "\n",
    "for tweet in womentweets:\n",
    "    htwomen+=len(hashtag.findall(tweet))\n",
    "    twomen+=len(at.findall(tweet))\n",
    "    alltweets[tweet]=1"
   ]
  },
  {
   "cell_type": "markdown",
   "metadata": {},
   "source": [
    "## **basic data information**  \n",
    "we choose to display how many tweets by each gander included hashtags and how many included tags.  \n",
    "we did not show avg. length of tweet or number of words in tweets since the difrrence is insignificant."
   ]
  },
  {
   "cell_type": "code",
   "execution_count": 232,
   "metadata": {},
   "outputs": [
    {
     "data": {
      "text/plain": [
       "<matplotlib.axes._subplots.AxesSubplot at 0x1b1e0128>"
      ]
     },
     "execution_count": 232,
     "metadata": {},
     "output_type": "execute_result"
    },
    {
     "data": {
      "image/png": "[encoded data removed]",
      "text/plain": [
       "<matplotlib.figure.Figure at 0x15de00f0>"
      ]
     },
     "metadata": {},
     "output_type": "display_data"
    },
    {
     "data": {
      "image/png": "[encoded data removed]",
      "text/plain": [
       "<matplotlib.figure.Figure at 0xe2befd0>"
      ]
     },
     "metadata": {},
     "output_type": "display_data"
    }
   ],
   "source": [
    "temp1 = pd.Series(data=[htmen,htwomen], index=['men', 'women'])\n",
    "fig = plt.figure(figsize=(8,4))\n",
    "ax1 = fig.add_subplot(121)\n",
    "ax1.set_xlabel('Gender')\n",
    "ax1.set_ylabel('Count of #')\n",
    "ax1.set_title(\"#'s by Gender\")\n",
    "temp1.plot(kind='bar')\n",
    "\n",
    "temp2 = pd.Series(data=[tmen, twomen], index=['men', 'women'])\n",
    "fig = plt.figure(figsize=(8, 4))\n",
    "ax1 = fig.add_subplot(121)\n",
    "ax1.set_xlabel('Gender')\n",
    "ax1.set_ylabel('Count of @')\n",
    "ax1.set_title(\"@'s by Gender\")\n",
    "temp2.plot(kind='bar')\n"
   ]
  },
  {
   "cell_type": "markdown",
   "metadata": {},
   "source": [
    "# PART 2 - building a classifiar"
   ]
  },
  {
   "cell_type": "markdown",
   "metadata": {},
   "source": [
    "we read that there are certain words men use more frequalty then women and vice versa,\n",
    "so we calculated the number of appearnces of each stop word in each gender tweets. if the ratio of appearences is larger then 2, we won't treat the stop word as a stop word, but as a regauler word. "
   ]
  },
  {
   "cell_type": "code",
   "execution_count": 233,
   "metadata": {
    "collapsed": true
   },
   "outputs": [],
   "source": [
    "stops = set(stopwords.words(\"english\"))\n",
    "stop_word_in_men={}\n",
    "stop_word_in_women={}\n",
    "for s in stops:\n",
    "    stop_word_in_men[s]=0\n",
    "    stop_word_in_women[s]=0\n",
    "    for mt in mentweets:\n",
    "        if s in mt.lower().split():\n",
    "            stop_word_in_men[s]+=1\n",
    "    for mt in womentweets:\n",
    "        if s in mt.lower().split():\n",
    "            stop_word_in_women[s]+=1\n",
    "d={'1stop_word':list(stops), 'men':list(stop_word_in_men.values()), 'women':list(stop_word_in_women.values())}\n",
    "df=pd.DataFrame(data=d)\n",
    "\n",
    "#creates new list of stop words\n",
    "new_stop=[]\n",
    "for index, row in df.iterrows():\n",
    "    if row['men']==0 or row['women']==0:\n",
    "        if(abs(row['men']-row['women'])<5):\n",
    "            new_stop.append(row['1stop_word'])\n",
    "    elif row['men']/row['women']<2.0 and row['women']/row['men']<2.0:\n",
    "        new_stop.append(row['1stop_word'])"
   ]
  },
  {
   "cell_type": "markdown",
   "metadata": {},
   "source": [
    "## building the classifier"
   ]
  },
  {
   "cell_type": "code",
   "execution_count": 234,
   "metadata": {
    "collapsed": true
   },
   "outputs": [],
   "source": [
    "ht_men.extend(ht_women)\n",
    "tag_men.extend(tag_women)"
   ]
  },
  {
   "cell_type": "code",
   "execution_count": 235,
   "metadata": {},
   "outputs": [],
   "source": [
    "#combine tweets to single dataframe\n",
    "bloop={'tweet':list(alltweets.keys()), 'gender':list(alltweets.values())}\n",
    "bb=pd.DataFrame(data=bloop)\n",
    "   \n",
    "#clean stop words\n",
    "def tweet_to_words(raw_tweet):\n",
    "    words = raw_tweet.lower().split()\n",
    "    meaningful_words = [w for w in words if not w in new_stop]\n",
    "    return( \" \".join( meaningful_words ))\n",
    "\n",
    "clean_train_reviews = []\n",
    "\n",
    "for i in alltweets:\n",
    "    clean_train_reviews.append(tweet_to_words(i))\n",
    "def bow(clean_train_reviews):\n",
    "    vectorizer = CountVectorizer(analyzer = \"word\", tokenizer = None, preprocessor = None, stop_words = None, max_features=1000)\n",
    "    train_data_features = vectorizer.fit_transform(clean_train_reviews)\n",
    "    return train_data_features.toarray()\n",
    "\n",
    "train_data_features=bow(clean_train_reviews)\n",
    "#split to train & test\n",
    "msk = np.random.rand(len(bb)) < 0.8\n",
    "train_x = train_data_features[msk]\n",
    "test_x = train_data_features[~msk]\n",
    "train_y = bb.loc[msk,\"gender\"]\n",
    "test_y = bb.loc[~msk,\"gender\"]"
   ]
  },
  {
   "cell_type": "markdown",
   "metadata": {},
   "source": [
    "### Random Forest Classifier: \n",
    "A random forest is a meta estimator that fits a number of decision tree classifiers on various sub-samples of the dataset and use averaging to improve the predictive accuracy and control over-fitting. "
   ]
  },
  {
   "cell_type": "code",
   "execution_count": 236,
   "metadata": {
    "collapsed": true
   },
   "outputs": [],
   "source": [
    "from sklearn.ensemble import RandomForestClassifier\n",
    "forest = RandomForestClassifier(n_estimators = 100)\n",
    "forest = forest.fit(train_x, train_y)\n",
    "f=forest.score(test_x,test_y)"
   ]
  },
  {
   "cell_type": "markdown",
   "metadata": {},
   "source": [
    "### Gradient Boosting Classifier:\n",
    "GB builds an additive model in a forward stage-wise fashion; it allows for the optimization of arbitrary differentiable loss functions. In each stage regression trees are fit on the negative gradient of the binomial or multinomial deviance loss function. Binary classification is a special case where only a single regression tree is induced."
   ]
  },
  {
   "cell_type": "code",
   "execution_count": 237,
   "metadata": {
    "collapsed": true
   },
   "outputs": [],
   "source": [
    "from sklearn.ensemble import GradientBoostingClassifier\n",
    "gbc=GradientBoostingClassifier(n_estimators=10, max_depth=3, min_samples_split=15)\n",
    "gbc.fit(train_x,train_y)\n",
    "g=gbc.score(test_x,test_y)"
   ]
  },
  {
   "cell_type": "markdown",
   "metadata": {},
   "source": [
    "### Linear Discriminant Analysis:\n",
    "Linear Discriminant Analysis a classifier with a linear decision surface. This classifier is attractive because it have closed-form solutions that can be easily computed, are inherently multiclass, have proven to work well in practice and have no hyperparameters to tune. We choose the shrinkage='auto' and the solver='lsqr' because they maximized our accuracy."
   ]
  },
  {
   "cell_type": "code",
   "execution_count": 238,
   "metadata": {},
   "outputs": [
    {
     "name": "stderr",
     "output_type": "stream",
     "text": [
      "C:\\ProgramData\\Anaconda3\\lib\\site-packages\\sklearn\\utils\\validation.py:444: DataConversionWarning:\n",
      "\n",
      "Data with input dtype int64 was converted to float64 by StandardScaler.\n",
      "\n"
     ]
    }
   ],
   "source": [
    "from sklearn.discriminant_analysis import LinearDiscriminantAnalysis\n",
    "lda = LinearDiscriminantAnalysis(solver='lsqr', shrinkage='auto')\n",
    "lda.fit(train_x,train_y)\n",
    "l=lda.score(test_x,test_y)"
   ]
  },
  {
   "cell_type": "markdown",
   "metadata": {},
   "source": [
    "### Passive Aggressive Classifier:\n",
    "The passive-aggressive algorithms are a family of algorithms for large-scale learning. They are similar to the Perceptron in that they do not require a learning rate. "
   ]
  },
  {
   "cell_type": "code",
   "execution_count": 239,
   "metadata": {},
   "outputs": [
    {
     "name": "stderr",
     "output_type": "stream",
     "text": [
      "C:\\ProgramData\\Anaconda3\\lib\\site-packages\\sklearn\\linear_model\\stochastic_gradient.py:84: FutureWarning:\n",
      "\n",
      "max_iter and tol parameters have been added in <class 'sklearn.linear_model.passive_aggressive.PassiveAggressiveClassifier'> in 0.19. If both are left unset, they default to max_iter=5 and tol=None. If tol is not None, max_iter defaults to max_iter=1000. From 0.21, default max_iter will be 1000, and default tol will be 1e-3.\n",
      "\n"
     ]
    }
   ],
   "source": [
    "from sklearn.linear_model import PassiveAggressiveClassifier\n",
    "pac =PassiveAggressiveClassifier(random_state=0)\n",
    "pac.fit(train_x,train_y)\n",
    "p=pac.score(test_x,test_y)"
   ]
  },
  {
   "cell_type": "markdown",
   "metadata": {},
   "source": [
    "### K Neighbors Classifier:\n",
    "Neighbors-based classification is a type of instance-based learning or non-generalizing learning: it does not attempt to construct a general internal model, but simply stores instances of the training data. Classification is computed from a simple majority vote of the nearest neighbors of each point: a query point is assigned the data class which has the most representatives within the nearest neighbors of the point."
   ]
  },
  {
   "cell_type": "code",
   "execution_count": 240,
   "metadata": {
    "collapsed": true
   },
   "outputs": [],
   "source": [
    "from sklearn.neighbors import KNeighborsClassifier\n",
    "kn = KNeighborsClassifier(n_neighbors=3)\n",
    "kn.fit(train_x,train_y)\n",
    "k=kn.score(test_x,test_y)"
   ]
  },
  {
   "cell_type": "markdown",
   "metadata": {},
   "source": [
    "### Ada Boost Classifier:\n",
    "An AdaBoost classifier is a meta-estimator that begins by fitting a classifier on the original dataset and then fits additional copies of the classifier on the same dataset but where the weights of incorrectly classified instances are adjusted such that subsequent classifiers focus more on difficult cases."
   ]
  },
  {
   "cell_type": "code",
   "execution_count": 241,
   "metadata": {
    "collapsed": true
   },
   "outputs": [],
   "source": [
    "from sklearn.ensemble import AdaBoostClassifier\n",
    "from sklearn.tree import DecisionTreeClassifier\n",
    "bdt = AdaBoostClassifier(DecisionTreeClassifier(max_depth=1),algorithm=\"SAMME\",n_estimators=200)\n",
    "bdt.fit(train_x,train_y)\n",
    "b=bdt.score(test_x,test_y)"
   ]
  },
  {
   "cell_type": "markdown",
   "metadata": {},
   "source": [
    "### Voting Classifier: we're using the top 3 classifiers\n",
    "The idea behind the VotingClassifier is to combine conceptually different machine learning classifiers and use a majority vote or the average predicted probabilities (soft vote) to predict the class labels. Such a classifier can be useful for a set of equally well performing model in order to balance out their individual weaknesses."
   ]
  },
  {
   "cell_type": "code",
   "execution_count": 242,
   "metadata": {
    "scrolled": true
   },
   "outputs": [
    {
     "name": "stderr",
     "output_type": "stream",
     "text": [
      "C:\\ProgramData\\Anaconda3\\lib\\site-packages\\sklearn\\utils\\validation.py:444: DataConversionWarning:\n",
      "\n",
      "Data with input dtype int64 was converted to float64 by StandardScaler.\n",
      "\n"
     ]
    }
   ],
   "source": [
    "from sklearn.ensemble import VotingClassifier\n",
    "vote = VotingClassifier(estimators=[('pac', pac), ('lda', lda), ('forest', forest)], voting='hard')\n",
    "vote.fit(train_x,train_y)\n",
    "v=vote.score(test_x,test_y)"
   ]
  },
  {
   "cell_type": "markdown",
   "metadata": {},
   "source": [
    "### all results:"
   ]
  },
  {
   "cell_type": "code",
   "execution_count": 243,
   "metadata": {},
   "outputs": [
    {
     "data": {
      "image/png": "[encoded data removed]",
      "text/plain": [
       "<matplotlib.figure.Figure at 0x160662b0>"
      ]
     },
     "metadata": {},
     "output_type": "display_data"
    }
   ],
   "source": [
    "import plotly.plotly as py\n",
    "import matplotlib.pyplot as plt\n",
    "dictionary = plt.figure(figsize=(21,10))\n",
    "x = {u'Random Forest':f, u'Gradient Boosting': g, u'Linear Discriminant':l , u'Passive Aggressive':p, u'K-Neighbors':k, u'Ada Boost':b, u'Voting':v}\n",
    "y = [f, g, l, p, k, b, v]\n",
    "z=range(7)\n",
    "plt.bar(range(len(x)), x.values(), align='center', alpha=0.5, width=0.7)\n",
    "plt.xticks(range(len(x)), x.keys(),size=15)\n",
    "for a,b in zip(z,y):\n",
    "    plt.text(a,b,str(round(b,3)), horizontalalignment='center', fontsize=14, bbox=dict(facecolor='lightblue'))\n",
    "plt.show()"
   ]
  },
  {
   "cell_type": "markdown",
   "metadata": {},
   "source": [
    "# Part 3 - creating our own male and female tweets"
   ]
  },
  {
   "cell_type": "code",
   "execution_count": 244,
   "metadata": {},
   "outputs": [
    {
     "name": "stdout",
     "output_type": "stream",
     "text": [
      "Requirement already satisfied: theano in c:\\programdata\\anaconda3\\lib\\site-packages\n",
      "Requirement already satisfied: numpy>=1.9.1 in c:\\programdata\\anaconda3\\lib\\site-packages (from theano)\n",
      "Requirement already satisfied: six>=1.9.0 in c:\\programdata\\anaconda3\\lib\\site-packages (from theano)\n",
      "Requirement already satisfied: scipy>=0.14 in c:\\programdata\\anaconda3\\lib\\site-packages (from theano)\n"
     ]
    }
   ],
   "source": [
    "!pip install theano\n",
    "#please change \"backend\" to theano in keras.json\n",
    "import numpy as np\n",
    "import pandas as pd\n",
    "import theano\n",
    "import keras\n",
    "from keras.utils.data_utils import get_file\n",
    "from keras.preprocessing.text import text_to_word_sequence\n",
    "from keras.preprocessing.text import Tokenizer\n",
    "from keras.models import Sequential\n",
    "from keras.layers.core import Dense, Activation, Flatten\n",
    "from keras.layers.wrappers import TimeDistributed\n",
    "from keras.layers.embeddings import Embedding\n",
    "from keras.layers.recurrent import LSTM\n",
    "from keras.layers.embeddings import Embedding\n",
    "from keras.layers.recurrent import SimpleRNN\n",
    "from keras import backend as K"
   ]
  },
  {
   "cell_type": "markdown",
   "metadata": {},
   "source": [
    "extract tweets and create a model for each gender:"
   ]
  },
  {
   "cell_type": "code",
   "execution_count": 245,
   "metadata": {},
   "outputs": [
    {
     "name": "stderr",
     "output_type": "stream",
     "text": [
      "C:\\ProgramData\\Anaconda3\\lib\\site-packages\\keras\\preprocessing\\text.py:145: UserWarning:\n",
      "\n",
      "The `nb_words` argument in `Tokenizer` has been renamed `num_words`.\n",
      "\n",
      "C:\\ProgramData\\Anaconda3\\lib\\site-packages\\keras\\models.py:848: UserWarning:\n",
      "\n",
      "The `nb_epoch` argument in `fit` has been renamed `epochs`.\n",
      "\n"
     ]
    },
    {
     "name": "stdout",
     "output_type": "stream",
     "text": [
      "Train on 22184 samples, validate on 5546 samples\n",
      "Epoch 1/20\n",
      "22184/22184 [==============================] - 48s - loss: 3.8471 - acc: 0.0392 - val_loss: 3.4691 - val_acc: 0.0453\n",
      "Epoch 2/20\n",
      "22184/22184 [==============================] - 40s - loss: 3.6764 - acc: 0.0543 - val_loss: 3.2740 - val_acc: 0.1612\n",
      "Epoch 3/20\n",
      "22184/22184 [==============================] - 40s - loss: 3.4176 - acc: 0.1179 - val_loss: 2.9876 - val_acc: 0.1756\n",
      "Epoch 4/20\n",
      "22184/22184 [==============================] - 40s - loss: 3.1932 - acc: 0.1345 - val_loss: 2.9044 - val_acc: 0.1830\n",
      "Epoch 5/20\n",
      "22184/22184 [==============================] - 40s - loss: 3.0297 - acc: 0.1445 - val_loss: 2.8808 - val_acc: 0.1854\n",
      "Epoch 6/20\n",
      "22184/22184 [==============================] - 40s - loss: 2.8977 - acc: 0.1552 - val_loss: 2.8929 - val_acc: 0.1882\n",
      "Epoch 7/20\n",
      "22184/22184 [==============================] - 40s - loss: 2.7998 - acc: 0.1622 - val_loss: 2.9126 - val_acc: 0.1891\n",
      "Epoch 8/20\n",
      "22184/22184 [==============================] - 40s - loss: 2.7213 - acc: 0.1691 - val_loss: 2.9609 - val_acc: 0.1897\n",
      "Epoch 9/20\n",
      "22184/22184 [==============================] - 40s - loss: 2.6569 - acc: 0.1746 - val_loss: 2.9708 - val_acc: 0.1922\n",
      "Epoch 10/20\n",
      "22184/22184 [==============================] - 40s - loss: 2.6156 - acc: 0.1754 - val_loss: 2.9793 - val_acc: 0.1940\n",
      "Epoch 11/20\n",
      "22184/22184 [==============================] - 40s - loss: 2.5868 - acc: 0.1758 - val_loss: 2.9924 - val_acc: 0.1931\n",
      "Epoch 12/20\n",
      "22184/22184 [==============================] - 40s - loss: 2.5608 - acc: 0.1774 - val_loss: 3.0118 - val_acc: 0.1926\n",
      "Epoch 13/20\n",
      "22184/22184 [==============================] - 40s - loss: 2.5405 - acc: 0.1781 - val_loss: 3.0649 - val_acc: 0.1946\n",
      "Epoch 14/20\n",
      "22184/22184 [==============================] - 40s - loss: 2.5278 - acc: 0.1787 - val_loss: 3.0194 - val_acc: 0.1931\n",
      "Epoch 15/20\n",
      "22184/22184 [==============================] - 40s - loss: 2.5181 - acc: 0.1788 - val_loss: 3.0051 - val_acc: 0.1924\n",
      "Epoch 16/20\n",
      "22184/22184 [==============================] - 40s - loss: 2.5090 - acc: 0.1785 - val_loss: 3.0413 - val_acc: 0.1929\n",
      "Epoch 17/20\n",
      "22184/22184 [==============================] - 40s - loss: 2.5027 - acc: 0.1796 - val_loss: 3.0763 - val_acc: 0.1933\n",
      "Epoch 18/20\n",
      "22184/22184 [==============================] - 42s - loss: 2.4985 - acc: 0.1791 - val_loss: 3.0621 - val_acc: 0.1929\n",
      "Epoch 19/20\n",
      "22184/22184 [==============================] - 40s - loss: 2.4915 - acc: 0.1807 - val_loss: 3.0370 - val_acc: 0.1918\n",
      "Epoch 20/20\n",
      "22184/22184 [==============================] - 40s - loss: 2.4915 - acc: 0.1790 - val_loss: 3.0622 - val_acc: 0.1937\n",
      "[2.5472455075618554, 0.18589974757011213]\n",
      "Train on 16451 samples, validate on 4113 samples\n",
      "Epoch 1/20\n",
      "16451/16451 [==============================] - 30s - loss: 4.0506 - acc: 0.0389 - val_loss: 3.5167 - val_acc: 0.0620\n",
      "Epoch 2/20\n",
      "16451/16451 [==============================] - 30s - loss: 3.8981 - acc: 0.0489 - val_loss: 3.4044 - val_acc: 0.0620\n",
      "Epoch 3/20\n",
      "16451/16451 [==============================] - 30s - loss: 3.6885 - acc: 0.1214 - val_loss: 3.1722 - val_acc: 0.1872\n",
      "Epoch 4/20\n",
      "16451/16451 [==============================] - 30s - loss: 3.4428 - acc: 0.1503 - val_loss: 3.0361 - val_acc: 0.1991\n",
      "Epoch 5/20\n",
      "16451/16451 [==============================] - 30s - loss: 3.2484 - acc: 0.1642 - val_loss: 2.9387 - val_acc: 0.2054\n",
      "Epoch 6/20\n",
      "16451/16451 [==============================] - 30s - loss: 3.0884 - acc: 0.1750 - val_loss: 2.9054 - val_acc: 0.2069\n",
      "Epoch 7/20\n",
      "16451/16451 [==============================] - 30s - loss: 2.9461 - acc: 0.1868 - val_loss: 2.8921 - val_acc: 0.2096\n",
      "Epoch 8/20\n",
      "16451/16451 [==============================] - 30s - loss: 2.8315 - acc: 0.1948 - val_loss: 2.8972 - val_acc: 0.2123\n",
      "Epoch 9/20\n",
      "16451/16451 [==============================] - 30s - loss: 2.7305 - acc: 0.2024 - val_loss: 2.9212 - val_acc: 0.2154\n",
      "Epoch 10/20\n",
      "16451/16451 [==============================] - 30s - loss: 2.6494 - acc: 0.2076 - val_loss: 2.9602 - val_acc: 0.2135\n",
      "Epoch 11/20\n",
      "16451/16451 [==============================] - 31s - loss: 2.5841 - acc: 0.2118 - val_loss: 2.9620 - val_acc: 0.2154\n",
      "Epoch 12/20\n",
      "16451/16451 [==============================] - 30s - loss: 2.5337 - acc: 0.2145 - val_loss: 3.0029 - val_acc: 0.2178\n",
      "Epoch 13/20\n",
      "16451/16451 [==============================] - 32s - loss: 2.4877 - acc: 0.2177 - val_loss: 3.0942 - val_acc: 0.2164\n",
      "Epoch 14/20\n",
      "16451/16451 [==============================] - 31s - loss: 2.4592 - acc: 0.2183 - val_loss: 3.1203 - val_acc: 0.2154\n",
      "Epoch 15/20\n",
      "16451/16451 [==============================] - 30s - loss: 2.4357 - acc: 0.2174 - val_loss: 3.0770 - val_acc: 0.2166\n",
      "Epoch 16/20\n",
      "16451/16451 [==============================] - 30s - loss: 2.4193 - acc: 0.2195 - val_loss: 3.1498 - val_acc: 0.2161\n",
      "Epoch 17/20\n",
      "16451/16451 [==============================] - 30s - loss: 2.4033 - acc: 0.2203 - val_loss: 3.1115 - val_acc: 0.2193\n",
      "Epoch 18/20\n",
      "16451/16451 [==============================] - 31s - loss: 2.3887 - acc: 0.2197 - val_loss: 3.0976 - val_acc: 0.2169\n",
      "Epoch 19/20\n",
      "16451/16451 [==============================] - 30s - loss: 2.3802 - acc: 0.2201 - val_loss: 3.1485 - val_acc: 0.2169\n",
      "Epoch 20/20\n",
      "16451/16451 [==============================] - 30s - loss: 2.3696 - acc: 0.2197 - val_loss: 3.1344 - val_acc: 0.2147\n",
      "[2.4828290834057727, 0.22398366077798185]\n"
     ]
    }
   ],
   "source": [
    "def create_model(text):\n",
    "    vocabulary_size = 600\n",
    "    text2 = text_to_word_sequence(text, filters='!\"$%&()*+,-./:;<=>?[\\\\]^_`{|}~\\t\\n',lower=True, split=\" \")\n",
    "    token = Tokenizer(nb_words=600, char_level=False)\n",
    "    token.fit_on_texts(text2)\n",
    "    text_mtx = token.texts_to_matrix(text2, mode='binary')\n",
    "    vocab = pd.DataFrame({'word': text2, 'code': np.argmax(text_mtx, axis=1)})\n",
    "    vocab = vocab.drop_duplicates().sort_values('code')\n",
    "    input_ = text_mtx[:-1]\n",
    "    output_ = text_mtx[1:]\n",
    "\n",
    "    model = Sequential()\n",
    "    model.add(Embedding(input_dim=input_.shape[1], output_dim=42, input_length=input_.shape[1]))\n",
    "    model.add(Flatten())\n",
    "    model.add(Dense(output_.shape[1], activation='sigmoid'))\n",
    "    model.compile(loss='categorical_crossentropy', optimizer='rmsprop',metrics=[\"accuracy\"])\n",
    "    model.fit(input_, y=output_, batch_size=200, nb_epoch=20, verbose=1, validation_split=0.2)\n",
    "    score = model.evaluate(input_,output_, verbose=0)\n",
    "    print(score)\n",
    "\n",
    "    model.save_weights('weights_1')\n",
    "    model.load_weights('weights_1')\n",
    "    score = model.evaluate(input_,output_, verbose=0)\n",
    "    y_test_pred = model.predict_classes(input_, verbose=0)\n",
    "    y_test_pred.shape\n",
    "    np.argmax(output_[:150:10],axis=1)\n",
    "    y_test_pred[:150:10]\n",
    "    probs = model.predict_proba(input_, verbose=0)\n",
    "    probs[1]\n",
    "    return token,model,vocab\n",
    "\n",
    "#seperating each tweet by \"NEWTWEET\"\n",
    "string_of_male_tweets=' NEWTWEET '\n",
    "for t in mentweets:\n",
    "    string_of_male_tweets+= t\n",
    "    string_of_male_tweets+=' NEWTWEET '\n",
    "    \n",
    "mtokem, mmodel, mvocab=create_model(string_of_male_tweets)\n",
    "\n",
    "string_of_female_tweets=' NEWTWEET '\n",
    "for t in womentweets:\n",
    "    string_of_female_tweets+= t\n",
    "    string_of_female_tweets+=' NEWTWEET '\n",
    "    \n",
    "ftokem, fmodel, fvocab=create_model(string_of_female_tweets)"
   ]
  },
  {
   "cell_type": "markdown",
   "metadata": {},
   "source": [
    "Functions we will use to create a tweet"
   ]
  },
  {
   "cell_type": "code",
   "execution_count": 246,
   "metadata": {},
   "outputs": [],
   "source": [
    "import random\n",
    "\n",
    "def get_next(text,token,model,vocabulary):\n",
    "    #Predicts the following word, given a text word, a tokenizer to convert it to 1-hot vector, a trained model and a vocabulary\n",
    "    #with word and index representations\n",
    "    #converting the word to 1-hot matrix represenation\n",
    "    tmp = text_to_word_sequence(text, lower=False, split=\" \")\n",
    "    tmp = token.texts_to_matrix(tmp, mode='binary')\n",
    "    #predicting next word\n",
    "    p = model.predict(tmp)[0]\n",
    "    match = find_random_word_index(p)\n",
    "    return vocabulary[vocabulary['code']==match]['word'].values[0]\n",
    "\n",
    "def find_random_word_index(v):\n",
    "    found = False\n",
    "    while found == False:\n",
    "        index_rand_choice = random.randint(0, len(v) - 1)\n",
    "        if v[index_rand_choice] != 0:\n",
    "            return index_rand_choice\n",
    "    return None\n",
    "\n",
    "\n",
    "def create_tweet(token, model, vocab):\n",
    "    prev_word = 'NEWTWEET'\n",
    "    next_word = ''\n",
    "    tweet = '';\n",
    "    chars = 0\n",
    "    while (chars<140 and next_word.strip() != 'NEWTWEET'):\n",
    "        next_word = get_next(prev_word, token, model, vocab)\n",
    "        tweet = tweet + \" \" + next_word\n",
    "        prev_word = next_word\n",
    "        chars+=len(next_word)\n",
    "        if not (chars<140 and next_word.strip() != 'NEWTWEET'):\n",
    "            break\n",
    "    return tweet"
   ]
  },
  {
   "cell_type": "markdown",
   "metadata": {},
   "source": [
    "create a set of tweets for each gender (dont run this if you don't want to generate new tweets):"
   ]
  },
  {
   "cell_type": "code",
   "execution_count": 247,
   "metadata": {},
   "outputs": [],
   "source": [
    "allmen=[]\n",
    "allwomen=[]\n",
    "for i in range(0, 400):\n",
    "    men = create_tweet(mtokem, mmodel, mvocab)\n",
    "    allmen.append(men)\n",
    "\n",
    "for i in range(0, 400):\n",
    "    female = create_tweet(ftokem, fmodel, fvocab)\n",
    "    allwomen.append(female)"
   ]
  },
  {
   "cell_type": "markdown",
   "metadata": {},
   "source": [
    "Writing to csv:"
   ]
  },
  {
   "cell_type": "code",
   "execution_count": 306,
   "metadata": {},
   "outputs": [],
   "source": [
    "df1 = pd.DataFrame(data=allmen)\n",
    "df1.to_csv(\"allmen.csv\", sep=',',index=False, header=False)\n",
    "df2 = pd.DataFrame(data=allwomen)\n",
    "df2.to_csv(\"allwomen.csv\", sep=',',index=False, header=False)"
   ]
  },
  {
   "cell_type": "code",
   "execution_count": null,
   "metadata": {},
   "outputs": [],
   "source": [
    "allmen=[]\n",
    "with open('allmen.csv', 'r') as f:\n",
    "    reader = csv.reader(f)\n",
    "    for row in reader:\n",
    "        allmen.append(row[0])\n",
    "allwomen=[]\n",
    "with open('allwomen.csv', 'r') as f:\n",
    "    reader = csv.reader(f)\n",
    "    for row in reader:\n",
    "        allwomen.append(row[0])"
   ]
  },
  {
   "cell_type": "markdown",
   "metadata": {},
   "source": [
    "# Part 4 - Checking our classifier on our new tweets\n",
    "we will check our tweets using the top 3 classifiers as seen in model fitting (with different tweets we recieve different scores)."
   ]
  },
  {
   "cell_type": "code",
   "execution_count": 248,
   "metadata": {},
   "outputs": [],
   "source": [
    "mentweets=[]; womentweets=[]\n",
    "for tweet in allmen:\n",
    "    if(not tweet in mentweets):\n",
    "        mentweets.append(tweet)\n",
    "        \n",
    "for tweet in allwomen:\n",
    "    if(not tweet in womentweets):\n",
    "        womentweets.append(tweet)\n",
    "mentweets.extend(alltweets.keys())\n",
    "womentweets.extend(alltweets.keys())"
   ]
  },
  {
   "cell_type": "markdown",
   "metadata": {},
   "source": [
    "as before, we will check the ratio of each stopword between men and women and create a new stop word list."
   ]
  },
  {
   "cell_type": "code",
   "execution_count": 249,
   "metadata": {
    "collapsed": true
   },
   "outputs": [],
   "source": [
    "stop_word_in_men={}\n",
    "stop_word_in_women={}\n",
    "for s in stops:\n",
    "    stop_word_in_men[s]=0\n",
    "    stop_word_in_women[s]=0\n",
    "    for mt in mentweets:\n",
    "        if s in mt.lower().split():\n",
    "            stop_word_in_men[s]+=1\n",
    "    for mt in womentweets:\n",
    "        if s in mt.lower().split():\n",
    "            stop_word_in_women[s]+=1\n",
    "d={'1stop_word':list(stops), 'men':list(stop_word_in_men.values()), 'women':list(stop_word_in_women.values())}\n",
    "df=pd.DataFrame(data=d)\n",
    "\n",
    "#creates new list of stop words\n",
    "for index, row in df.iterrows():\n",
    "    if row['men']==0 or row['women']==0:\n",
    "        if(abs(row['men']-row['women'])<5):\n",
    "            new_stop.append(row['1stop_word'])\n",
    "    elif row['men']/row['women']<2.0 and row['women']/row['men']<2.0:\n",
    "        new_stop.append(row['1stop_word'])\n"
   ]
  },
  {
   "cell_type": "markdown",
   "metadata": {},
   "source": [
    "check the classification prediction for each feamle tweet for the top three classifiers."
   ]
  },
  {
   "cell_type": "code",
   "execution_count": 257,
   "metadata": {},
   "outputs": [
    {
     "name": "stdout",
     "output_type": "stream",
     "text": [
      "forest score: 0.445\n",
      "passive-aggressive score: 0.8\n",
      "voting score: 0.69\n"
     ]
    }
   ],
   "source": [
    "clean_train_reviews=[]\n",
    "for i in mentweets:\n",
    "    clean_train_reviews.append(tweet_to_words(i))\n",
    "# The vocabulary after the Bag of Words model is trained:\n",
    "train_data_features = bow(clean_train_reviews)\n",
    "forest_true = 0\n",
    "pac_true = 0\n",
    "vote_true = 0\n",
    "forest_predicted_tweets=[]\n",
    "real_tweets=[]\n",
    "pac_predicted_tweets=[]\n",
    "vote_predicted_tweets=[]\n",
    "for i in range(0, 400):\n",
    "    real_tweets.append('men')\n",
    "    if forest.predict([train_data_features[i]]) == 0 :\n",
    "        forest_true = forest_true + 1\n",
    "        forest_predicted_tweets.append('men')\n",
    "    else:\n",
    "        forest_predicted_tweets.append('women')\n",
    "    if pac.predict([train_data_features[i]]) == 0 :\n",
    "        pac_true = pac_true + 1\n",
    "        pac_predicted_tweets.append('men')\n",
    "    else:\n",
    "        pac_predicted_tweets.append('women')\n",
    "    if vote.predict([train_data_features[i]]) == 0 :\n",
    "        vote_true = vote_true + 1\n",
    "        vote_predicted_tweets.append('men')\n",
    "    else:\n",
    "        vote_predicted_tweets.append('women')\n",
    "print(\"forest score: \"+str(forest_true/400))\n",
    "print(\"passive-aggressive score: \"+str(pac_true/400))\n",
    "print(\"voting score: \"+str(vote_true/400))"
   ]
  },
  {
   "cell_type": "markdown",
   "metadata": {},
   "source": [
    "check the classification prediction for each feamle tweet for the top three classifiers."
   ]
  },
  {
   "cell_type": "code",
   "execution_count": 258,
   "metadata": {},
   "outputs": [
    {
     "name": "stdout",
     "output_type": "stream",
     "text": [
      "forest score: 0.8575\n",
      "passive-aggressive score: 0.4725\n",
      "voting score: 0.6725\n"
     ]
    }
   ],
   "source": [
    "clean_train_reviews=[]\n",
    "for i in womentweets:\n",
    "    clean_train_reviews.append(tweet_to_words(i))\n",
    "train_data_features = bow(clean_train_reviews)\n",
    "forest_true = 0\n",
    "pac_true = 0\n",
    "vote_true = 0\n",
    "\n",
    "for i in range(0, 400):\n",
    "    real_tweets.append('women')\n",
    "    if forest.predict([train_data_features[i]]) == 1 :\n",
    "        forest_true = forest_true + 1\n",
    "        forest_predicted_tweets.append('women')\n",
    "    else:\n",
    "        forest_predicted_tweets.append('men')\n",
    "    if pac.predict([train_data_features[i]]) == 1 :\n",
    "        pac_true = pac_true + 1\n",
    "        pac_predicted_tweets.append('women')\n",
    "    else:\n",
    "        pac_predicted_tweets.append('men')\n",
    "    if vote.predict([train_data_features[i]]) == 1 :\n",
    "        vote_true = vote_true + 1\n",
    "        vote_predicted_tweets.append('women')\n",
    "    else:\n",
    "        vote_predicted_tweets.append('men')\n",
    "print(\"forest score: \"+str(forest_true/400))\n",
    "print(\"passive-aggressive score: \"+str(pac_true/400))\n",
    "print(\"voting score: \"+str(vote_true/400))"
   ]
  },
  {
   "cell_type": "markdown",
   "metadata": {},
   "source": [
    "### Confusion matrix random forest:"
   ]
  },
  {
   "cell_type": "code",
   "execution_count": 259,
   "metadata": {},
   "outputs": [
    {
     "name": "stdout",
     "output_type": "stream",
     "text": [
      "Confusion matrix, without normalization\n",
      "[[178 222]\n",
      " [ 57 343]]\n"
     ]
    },
    {
     "data": {
      "image/png": "[encoded data removed]",
      "text/plain": [
       "<matplotlib.figure.Figure at 0x1ade0550>"
      ]
     },
     "metadata": {},
     "output_type": "display_data"
    }
   ],
   "source": [
    "from sklearn.metrics import confusion_matrix\n",
    "import itertools\n",
    "\n",
    "def plot_confusion_matrix(cm, classes,\n",
    "                          normalize=False,\n",
    "                          title='Confusion matrix',\n",
    "                          cmap=plt.cm.Blues):\n",
    "    \"\"\"\n",
    "    This function prints and plots the confusion matrix.\n",
    "    Normalization can be applied by setting `normalize=True`.\n",
    "    \"\"\"\n",
    "    if normalize:\n",
    "        cm = cm.astype('float') / cm.sum(axis=1)[:, np.newaxis]\n",
    "        print(\"Normalized confusion matrix\")\n",
    "    else:\n",
    "        print('Confusion matrix, without normalization')\n",
    "\n",
    "    print(cm)\n",
    "\n",
    "    plt.imshow(cm, interpolation='nearest', cmap=cmap)\n",
    "    plt.title(title)\n",
    "    plt.colorbar()\n",
    "    tick_marks = np.arange(len(classes))\n",
    "    plt.xticks(tick_marks, classes, rotation=45)\n",
    "    plt.yticks(tick_marks, classes)\n",
    "\n",
    "    fmt = '.2f' if normalize else 'd'\n",
    "    thresh = cm.max() / 2.\n",
    "    for i, j in itertools.product(range(cm.shape[0]), range(cm.shape[1])):\n",
    "        plt.text(j, i, format(cm[i, j], fmt),\n",
    "                 horizontalalignment=\"center\",\n",
    "                 color=\"white\" if cm[i, j] > thresh else \"black\")\n",
    "\n",
    "    plt.tight_layout()\n",
    "    plt.ylabel('True label')\n",
    "    plt.xlabel('Predicted label')\n",
    "\n",
    "class_names=['men', 'women']\n",
    "mat_forest = confusion_matrix(real_tweets,forest_predicted_tweets)\n",
    "np.set_printoptions(precision=2)\n",
    "plt.figure()\n",
    "plot_confusion_matrix(mat_forest, classes=class_names, normalize=False,\n",
    "                      title='Not Normalized confusion matrix')"
   ]
  },
  {
   "cell_type": "markdown",
   "metadata": {},
   "source": [
    "### Confusion matrix passive-aggressive:"
   ]
  },
  {
   "cell_type": "code",
   "execution_count": 260,
   "metadata": {},
   "outputs": [
    {
     "name": "stdout",
     "output_type": "stream",
     "text": [
      "Confusion matrix, without normalization\n",
      "[[320  80]\n",
      " [211 189]]\n"
     ]
    },
    {
     "data": {
      "image/png": "[encoded data removed]",
      "text/plain": [
       "<matplotlib.figure.Figure at 0x162fecc0>"
      ]
     },
     "metadata": {},
     "output_type": "display_data"
    }
   ],
   "source": [
    "mat_pac = confusion_matrix(real_tweets,pac_predicted_tweets)\n",
    "np.set_printoptions(precision=2)\n",
    "plt.figure()\n",
    "plot_confusion_matrix(mat_pac, classes=class_names, normalize=False,\n",
    "                      title=' Not Normalized confusion matrix')"
   ]
  },
  {
   "cell_type": "markdown",
   "metadata": {},
   "source": [
    "### Confusion matrix voting:"
   ]
  },
  {
   "cell_type": "code",
   "execution_count": 261,
   "metadata": {},
   "outputs": [
    {
     "name": "stdout",
     "output_type": "stream",
     "text": [
      "Confusion matrix, without normalization\n",
      "[[276 124]\n",
      " [131 269]]\n"
     ]
    },
    {
     "data": {
      "image/png": "[encoded data removed]",
      "text/plain": [
       "<matplotlib.figure.Figure at 0x12ea7908>"
      ]
     },
     "metadata": {},
     "output_type": "display_data"
    }
   ],
   "source": [
    "mat_vote = confusion_matrix(real_tweets,vote_predicted_tweets)\n",
    "np.set_printoptions(precision=2)\n",
    "plt.figure()\n",
    "plot_confusion_matrix(mat_vote, classes=class_names, normalize=False,\n",
    "                      title=' Not Normalized confusion matrix')"
   ]
  },
  {
   "cell_type": "markdown",
   "metadata": {},
   "source": [
    "## Conclusions\n",
    "\n",
    "different classifications work best for the different genders. We would like to check the influence of emoji, hastags, retweets, picture posting (link to instagram etc.) as features in addition to the text classifier."
   ]
  }
 ],
 "metadata": {
  "kernelspec": {
   "display_name": "Python 3",
   "language": "python",
   "name": "python3"
  },
  "language_info": {
   "codemirror_mode": {
    "name": "ipython",
    "version": 3
   },
   "file_extension": ".py",
   "mimetype": "text/x-python",
   "name": "python",
   "nbconvert_exporter": "python",
   "pygments_lexer": "ipython3",
   "version": "3.6.4"
  }
 },
 "nbformat": 4,
 "nbformat_minor": 2
}
