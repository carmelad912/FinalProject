{
 "cells": [
  {
   "cell_type": "code",
   "execution_count": null,
   "metadata": {
    "collapsed": true
   },
   "outputs": [],
   "source": [
    "consumer_key=\"h055FoysHKU57ryKbIZvMVwaC\"\n",
    "consumer_secret=\"7gbAzHv5dmeaVhOusLqQw9lm7MV8CznrUBZRd0fT0qw4UVbZbL\"\n",
    "access_token=\"2268807271-b0r3vOtx98FzXBSSXP4xSTcP0muQPkHE7j7JWFQ\"\n",
    "access_token_secret=\"djF1urmuH1xQ7BUcOIXvcHEZzGyWQiuxxgdX9aKPWgCrp\""
   ]
  }
 ],
 "metadata": {
  "kernelspec": {
   "display_name": "Python 3",
   "language": "python",
   "name": "python3"
  },
  "language_info": {
   "codemirror_mode": {
    "name": "ipython",
    "version": 3
   },
   "file_extension": ".py",
   "mimetype": "text/x-python",
   "name": "python",
   "nbconvert_exporter": "python",
   "pygments_lexer": "ipython3",
   "version": "3.6.4"
  }
 },
 "nbformat": 4,
 "nbformat_minor": 2
}
